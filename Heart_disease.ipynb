{
  "nbformat": 4,
  "nbformat_minor": 2,
  "metadata": {
    "colab": {
      "name": "heart disease",
      "provenance": []
    },
    "kernelspec": {
      "name": "python3",
      "display_name": "Python 3.9.1 64-bit"
    },
    "language_info": {
      "name": "python",
      "version": "3.9.1",
      "mimetype": "text/x-python",
      "codemirror_mode": {
        "name": "ipython",
        "version": 3
      },
      "pygments_lexer": "ipython3",
      "nbconvert_exporter": "python",
      "file_extension": ".py"
    },
    "interpreter": {
      "hash": "9d509004ba6856b50a5276a8531ed4875cffe073cf92fee2c0ea1d3ec1a69ed9"
    }
  },
  "cells": [
    {
      "cell_type": "markdown",
      "source": [
        "# Importing Libraries"
      ],
      "metadata": {}
    },
    {
      "cell_type": "code",
      "execution_count": 1,
      "source": [
        "import pandas as pd\r\n",
        "import numpy as np\r\n",
        "import seaborn as sns\r\n",
        "import matplotlib.pyplot as plt"
      ],
      "outputs": [],
      "metadata": {
        "id": "uAK2zRJMlaAP"
      }
    },
    {
      "cell_type": "markdown",
      "source": [
        "# Importing and understanding the dataset "
      ],
      "metadata": {
        "id": "IhYaCBgktZSJ"
      }
    },
    {
      "cell_type": "code",
      "execution_count": 2,
      "source": [
        "data = pd.read_csv('heart_disease.csv')"
      ],
      "outputs": [],
      "metadata": {
        "id": "NUEs4_garpyc"
      }
    },
    {
      "cell_type": "code",
      "execution_count": 3,
      "source": [
        "data.shape"
      ],
      "outputs": [
        {
          "output_type": "execute_result",
          "data": {
            "text/plain": [
              "(303, 14)"
            ]
          },
          "metadata": {},
          "execution_count": 3
        }
      ],
      "metadata": {
        "colab": {
          "base_uri": "https://localhost:8080/"
        },
        "id": "G9LeXecHr0sU",
        "outputId": "fd8c1800-90e9-4839-e797-b02cd3c74211"
      }
    },
    {
      "cell_type": "code",
      "execution_count": 4,
      "source": [
        "data.head()"
      ],
      "outputs": [
        {
          "output_type": "execute_result",
          "data": {
            "text/html": [
              "<div>\n",
              "<style scoped>\n",
              "    .dataframe tbody tr th:only-of-type {\n",
              "        vertical-align: middle;\n",
              "    }\n",
              "\n",
              "    .dataframe tbody tr th {\n",
              "        vertical-align: top;\n",
              "    }\n",
              "\n",
              "    .dataframe thead th {\n",
              "        text-align: right;\n",
              "    }\n",
              "</style>\n",
              "<table border=\"1\" class=\"dataframe\">\n",
              "  <thead>\n",
              "    <tr style=\"text-align: right;\">\n",
              "      <th></th>\n",
              "      <th>Age</th>\n",
              "      <th>Sex</th>\n",
              "      <th>ChestPain</th>\n",
              "      <th>RestBP</th>\n",
              "      <th>Chol</th>\n",
              "      <th>Fbs</th>\n",
              "      <th>RestECG</th>\n",
              "      <th>MaxHR</th>\n",
              "      <th>ExAng</th>\n",
              "      <th>Oldpeak</th>\n",
              "      <th>Slope</th>\n",
              "      <th>Ca</th>\n",
              "      <th>Thal</th>\n",
              "      <th>AHD</th>\n",
              "    </tr>\n",
              "  </thead>\n",
              "  <tbody>\n",
              "    <tr>\n",
              "      <th>1</th>\n",
              "      <td>63</td>\n",
              "      <td>1</td>\n",
              "      <td>typical</td>\n",
              "      <td>145</td>\n",
              "      <td>233</td>\n",
              "      <td>1</td>\n",
              "      <td>2</td>\n",
              "      <td>150</td>\n",
              "      <td>0</td>\n",
              "      <td>2.3</td>\n",
              "      <td>3</td>\n",
              "      <td>0.0</td>\n",
              "      <td>fixed</td>\n",
              "      <td>No</td>\n",
              "    </tr>\n",
              "    <tr>\n",
              "      <th>2</th>\n",
              "      <td>67</td>\n",
              "      <td>1</td>\n",
              "      <td>asymptomatic</td>\n",
              "      <td>160</td>\n",
              "      <td>286</td>\n",
              "      <td>0</td>\n",
              "      <td>2</td>\n",
              "      <td>108</td>\n",
              "      <td>1</td>\n",
              "      <td>1.5</td>\n",
              "      <td>2</td>\n",
              "      <td>3.0</td>\n",
              "      <td>normal</td>\n",
              "      <td>Yes</td>\n",
              "    </tr>\n",
              "    <tr>\n",
              "      <th>3</th>\n",
              "      <td>67</td>\n",
              "      <td>1</td>\n",
              "      <td>asymptomatic</td>\n",
              "      <td>120</td>\n",
              "      <td>229</td>\n",
              "      <td>0</td>\n",
              "      <td>2</td>\n",
              "      <td>129</td>\n",
              "      <td>1</td>\n",
              "      <td>2.6</td>\n",
              "      <td>2</td>\n",
              "      <td>2.0</td>\n",
              "      <td>reversable</td>\n",
              "      <td>Yes</td>\n",
              "    </tr>\n",
              "    <tr>\n",
              "      <th>4</th>\n",
              "      <td>37</td>\n",
              "      <td>1</td>\n",
              "      <td>nonanginal</td>\n",
              "      <td>130</td>\n",
              "      <td>250</td>\n",
              "      <td>0</td>\n",
              "      <td>0</td>\n",
              "      <td>187</td>\n",
              "      <td>0</td>\n",
              "      <td>3.5</td>\n",
              "      <td>3</td>\n",
              "      <td>0.0</td>\n",
              "      <td>normal</td>\n",
              "      <td>No</td>\n",
              "    </tr>\n",
              "    <tr>\n",
              "      <th>5</th>\n",
              "      <td>41</td>\n",
              "      <td>0</td>\n",
              "      <td>nontypical</td>\n",
              "      <td>130</td>\n",
              "      <td>204</td>\n",
              "      <td>0</td>\n",
              "      <td>2</td>\n",
              "      <td>172</td>\n",
              "      <td>0</td>\n",
              "      <td>1.4</td>\n",
              "      <td>1</td>\n",
              "      <td>0.0</td>\n",
              "      <td>normal</td>\n",
              "      <td>No</td>\n",
              "    </tr>\n",
              "  </tbody>\n",
              "</table>\n",
              "</div>"
            ],
            "text/plain": [
              "   Age  Sex     ChestPain  RestBP  Chol  Fbs  RestECG  MaxHR  ExAng  Oldpeak  \\\n",
              "1   63    1       typical     145   233    1        2    150      0      2.3   \n",
              "2   67    1  asymptomatic     160   286    0        2    108      1      1.5   \n",
              "3   67    1  asymptomatic     120   229    0        2    129      1      2.6   \n",
              "4   37    1    nonanginal     130   250    0        0    187      0      3.5   \n",
              "5   41    0    nontypical     130   204    0        2    172      0      1.4   \n",
              "\n",
              "   Slope   Ca        Thal  AHD  \n",
              "1      3  0.0       fixed   No  \n",
              "2      2  3.0      normal  Yes  \n",
              "3      2  2.0  reversable  Yes  \n",
              "4      3  0.0      normal   No  \n",
              "5      1  0.0      normal   No  "
            ]
          },
          "metadata": {},
          "execution_count": 4
        }
      ],
      "metadata": {
        "colab": {
          "base_uri": "https://localhost:8080/",
          "height": 204
        },
        "id": "UVTydeCsr1uy",
        "outputId": "7005b569-64ba-4f22-9f4c-72c343dd22f9"
      }
    },
    {
      "cell_type": "code",
      "execution_count": 5,
      "source": [
        "data.tail()"
      ],
      "outputs": [
        {
          "output_type": "execute_result",
          "data": {
            "text/html": [
              "<div>\n",
              "<style scoped>\n",
              "    .dataframe tbody tr th:only-of-type {\n",
              "        vertical-align: middle;\n",
              "    }\n",
              "\n",
              "    .dataframe tbody tr th {\n",
              "        vertical-align: top;\n",
              "    }\n",
              "\n",
              "    .dataframe thead th {\n",
              "        text-align: right;\n",
              "    }\n",
              "</style>\n",
              "<table border=\"1\" class=\"dataframe\">\n",
              "  <thead>\n",
              "    <tr style=\"text-align: right;\">\n",
              "      <th></th>\n",
              "      <th>Age</th>\n",
              "      <th>Sex</th>\n",
              "      <th>ChestPain</th>\n",
              "      <th>RestBP</th>\n",
              "      <th>Chol</th>\n",
              "      <th>Fbs</th>\n",
              "      <th>RestECG</th>\n",
              "      <th>MaxHR</th>\n",
              "      <th>ExAng</th>\n",
              "      <th>Oldpeak</th>\n",
              "      <th>Slope</th>\n",
              "      <th>Ca</th>\n",
              "      <th>Thal</th>\n",
              "      <th>AHD</th>\n",
              "    </tr>\n",
              "  </thead>\n",
              "  <tbody>\n",
              "    <tr>\n",
              "      <th>299</th>\n",
              "      <td>45</td>\n",
              "      <td>1</td>\n",
              "      <td>typical</td>\n",
              "      <td>110</td>\n",
              "      <td>264</td>\n",
              "      <td>0</td>\n",
              "      <td>0</td>\n",
              "      <td>132</td>\n",
              "      <td>0</td>\n",
              "      <td>1.2</td>\n",
              "      <td>2</td>\n",
              "      <td>0.0</td>\n",
              "      <td>reversable</td>\n",
              "      <td>Yes</td>\n",
              "    </tr>\n",
              "    <tr>\n",
              "      <th>300</th>\n",
              "      <td>68</td>\n",
              "      <td>1</td>\n",
              "      <td>asymptomatic</td>\n",
              "      <td>144</td>\n",
              "      <td>193</td>\n",
              "      <td>1</td>\n",
              "      <td>0</td>\n",
              "      <td>141</td>\n",
              "      <td>0</td>\n",
              "      <td>3.4</td>\n",
              "      <td>2</td>\n",
              "      <td>2.0</td>\n",
              "      <td>reversable</td>\n",
              "      <td>Yes</td>\n",
              "    </tr>\n",
              "    <tr>\n",
              "      <th>301</th>\n",
              "      <td>57</td>\n",
              "      <td>1</td>\n",
              "      <td>asymptomatic</td>\n",
              "      <td>130</td>\n",
              "      <td>131</td>\n",
              "      <td>0</td>\n",
              "      <td>0</td>\n",
              "      <td>115</td>\n",
              "      <td>1</td>\n",
              "      <td>1.2</td>\n",
              "      <td>2</td>\n",
              "      <td>1.0</td>\n",
              "      <td>reversable</td>\n",
              "      <td>Yes</td>\n",
              "    </tr>\n",
              "    <tr>\n",
              "      <th>302</th>\n",
              "      <td>57</td>\n",
              "      <td>0</td>\n",
              "      <td>nontypical</td>\n",
              "      <td>130</td>\n",
              "      <td>236</td>\n",
              "      <td>0</td>\n",
              "      <td>2</td>\n",
              "      <td>174</td>\n",
              "      <td>0</td>\n",
              "      <td>0.0</td>\n",
              "      <td>2</td>\n",
              "      <td>1.0</td>\n",
              "      <td>normal</td>\n",
              "      <td>Yes</td>\n",
              "    </tr>\n",
              "    <tr>\n",
              "      <th>303</th>\n",
              "      <td>38</td>\n",
              "      <td>1</td>\n",
              "      <td>nonanginal</td>\n",
              "      <td>138</td>\n",
              "      <td>175</td>\n",
              "      <td>0</td>\n",
              "      <td>0</td>\n",
              "      <td>173</td>\n",
              "      <td>0</td>\n",
              "      <td>0.0</td>\n",
              "      <td>1</td>\n",
              "      <td>NaN</td>\n",
              "      <td>normal</td>\n",
              "      <td>No</td>\n",
              "    </tr>\n",
              "  </tbody>\n",
              "</table>\n",
              "</div>"
            ],
            "text/plain": [
              "     Age  Sex     ChestPain  RestBP  Chol  Fbs  RestECG  MaxHR  ExAng  \\\n",
              "299   45    1       typical     110   264    0        0    132      0   \n",
              "300   68    1  asymptomatic     144   193    1        0    141      0   \n",
              "301   57    1  asymptomatic     130   131    0        0    115      1   \n",
              "302   57    0    nontypical     130   236    0        2    174      0   \n",
              "303   38    1    nonanginal     138   175    0        0    173      0   \n",
              "\n",
              "     Oldpeak  Slope   Ca        Thal  AHD  \n",
              "299      1.2      2  0.0  reversable  Yes  \n",
              "300      3.4      2  2.0  reversable  Yes  \n",
              "301      1.2      2  1.0  reversable  Yes  \n",
              "302      0.0      2  1.0      normal  Yes  \n",
              "303      0.0      1  NaN      normal   No  "
            ]
          },
          "metadata": {},
          "execution_count": 5
        }
      ],
      "metadata": {
        "colab": {
          "base_uri": "https://localhost:8080/",
          "height": 204
        },
        "id": "Grml2fi4qrj8",
        "outputId": "c0073d28-8fd9-4beb-8821-2923565f2b5f"
      }
    },
    {
      "cell_type": "code",
      "execution_count": 6,
      "source": [
        "data.shape"
      ],
      "outputs": [
        {
          "output_type": "execute_result",
          "data": {
            "text/plain": [
              "(303, 14)"
            ]
          },
          "metadata": {},
          "execution_count": 6
        }
      ],
      "metadata": {
        "colab": {
          "base_uri": "https://localhost:8080/"
        },
        "id": "ohWaqIVqq5QP",
        "outputId": "208b233f-2fee-4e57-b658-7b627746aeaf"
      }
    },
    {
      "cell_type": "code",
      "execution_count": 7,
      "source": [
        "data.columns"
      ],
      "outputs": [
        {
          "output_type": "execute_result",
          "data": {
            "text/plain": [
              "Index(['Age', 'Sex', 'ChestPain', 'RestBP', 'Chol', 'Fbs', 'RestECG', 'MaxHR',\n",
              "       'ExAng', 'Oldpeak', 'Slope', 'Ca', 'Thal', 'AHD'],\n",
              "      dtype='object')"
            ]
          },
          "metadata": {},
          "execution_count": 7
        }
      ],
      "metadata": {
        "id": "Qdo55ocgr9sE",
        "colab": {
          "base_uri": "https://localhost:8080/"
        },
        "outputId": "62b128f0-56a0-475b-c738-e516a30df6ae"
      }
    },
    {
      "cell_type": "code",
      "execution_count": 8,
      "source": [
        "data.info()"
      ],
      "outputs": [
        {
          "output_type": "stream",
          "name": "stdout",
          "text": [
            "<class 'pandas.core.frame.DataFrame'>\n",
            "Int64Index: 303 entries, 1 to 303\n",
            "Data columns (total 14 columns):\n",
            " #   Column     Non-Null Count  Dtype  \n",
            "---  ------     --------------  -----  \n",
            " 0   Age        303 non-null    int64  \n",
            " 1   Sex        303 non-null    int64  \n",
            " 2   ChestPain  303 non-null    object \n",
            " 3   RestBP     303 non-null    int64  \n",
            " 4   Chol       303 non-null    int64  \n",
            " 5   Fbs        303 non-null    int64  \n",
            " 6   RestECG    303 non-null    int64  \n",
            " 7   MaxHR      303 non-null    int64  \n",
            " 8   ExAng      303 non-null    int64  \n",
            " 9   Oldpeak    303 non-null    float64\n",
            " 10  Slope      303 non-null    int64  \n",
            " 11  Ca         299 non-null    float64\n",
            " 12  Thal       301 non-null    object \n",
            " 13  AHD        303 non-null    object \n",
            "dtypes: float64(2), int64(9), object(3)\n",
            "memory usage: 35.5+ KB\n"
          ]
        }
      ],
      "metadata": {
        "colab": {
          "base_uri": "https://localhost:8080/"
        },
        "id": "FSxVzvXrqv2X",
        "outputId": "6bbff462-1663-4223-bd64-17e560fb0659"
      }
    },
    {
      "cell_type": "code",
      "execution_count": 9,
      "source": [
        "data.describe()"
      ],
      "outputs": [
        {
          "output_type": "execute_result",
          "data": {
            "text/html": [
              "<div>\n",
              "<style scoped>\n",
              "    .dataframe tbody tr th:only-of-type {\n",
              "        vertical-align: middle;\n",
              "    }\n",
              "\n",
              "    .dataframe tbody tr th {\n",
              "        vertical-align: top;\n",
              "    }\n",
              "\n",
              "    .dataframe thead th {\n",
              "        text-align: right;\n",
              "    }\n",
              "</style>\n",
              "<table border=\"1\" class=\"dataframe\">\n",
              "  <thead>\n",
              "    <tr style=\"text-align: right;\">\n",
              "      <th></th>\n",
              "      <th>Age</th>\n",
              "      <th>Sex</th>\n",
              "      <th>RestBP</th>\n",
              "      <th>Chol</th>\n",
              "      <th>Fbs</th>\n",
              "      <th>RestECG</th>\n",
              "      <th>MaxHR</th>\n",
              "      <th>ExAng</th>\n",
              "      <th>Oldpeak</th>\n",
              "      <th>Slope</th>\n",
              "      <th>Ca</th>\n",
              "    </tr>\n",
              "  </thead>\n",
              "  <tbody>\n",
              "    <tr>\n",
              "      <th>count</th>\n",
              "      <td>303.000000</td>\n",
              "      <td>303.000000</td>\n",
              "      <td>303.000000</td>\n",
              "      <td>303.000000</td>\n",
              "      <td>303.000000</td>\n",
              "      <td>303.000000</td>\n",
              "      <td>303.000000</td>\n",
              "      <td>303.000000</td>\n",
              "      <td>303.000000</td>\n",
              "      <td>303.000000</td>\n",
              "      <td>299.000000</td>\n",
              "    </tr>\n",
              "    <tr>\n",
              "      <th>mean</th>\n",
              "      <td>54.438944</td>\n",
              "      <td>0.679868</td>\n",
              "      <td>131.689769</td>\n",
              "      <td>246.693069</td>\n",
              "      <td>0.148515</td>\n",
              "      <td>0.990099</td>\n",
              "      <td>149.607261</td>\n",
              "      <td>0.326733</td>\n",
              "      <td>1.039604</td>\n",
              "      <td>1.600660</td>\n",
              "      <td>0.672241</td>\n",
              "    </tr>\n",
              "    <tr>\n",
              "      <th>std</th>\n",
              "      <td>9.038662</td>\n",
              "      <td>0.467299</td>\n",
              "      <td>17.599748</td>\n",
              "      <td>51.776918</td>\n",
              "      <td>0.356198</td>\n",
              "      <td>0.994971</td>\n",
              "      <td>22.875003</td>\n",
              "      <td>0.469794</td>\n",
              "      <td>1.161075</td>\n",
              "      <td>0.616226</td>\n",
              "      <td>0.937438</td>\n",
              "    </tr>\n",
              "    <tr>\n",
              "      <th>min</th>\n",
              "      <td>29.000000</td>\n",
              "      <td>0.000000</td>\n",
              "      <td>94.000000</td>\n",
              "      <td>126.000000</td>\n",
              "      <td>0.000000</td>\n",
              "      <td>0.000000</td>\n",
              "      <td>71.000000</td>\n",
              "      <td>0.000000</td>\n",
              "      <td>0.000000</td>\n",
              "      <td>1.000000</td>\n",
              "      <td>0.000000</td>\n",
              "    </tr>\n",
              "    <tr>\n",
              "      <th>25%</th>\n",
              "      <td>48.000000</td>\n",
              "      <td>0.000000</td>\n",
              "      <td>120.000000</td>\n",
              "      <td>211.000000</td>\n",
              "      <td>0.000000</td>\n",
              "      <td>0.000000</td>\n",
              "      <td>133.500000</td>\n",
              "      <td>0.000000</td>\n",
              "      <td>0.000000</td>\n",
              "      <td>1.000000</td>\n",
              "      <td>0.000000</td>\n",
              "    </tr>\n",
              "    <tr>\n",
              "      <th>50%</th>\n",
              "      <td>56.000000</td>\n",
              "      <td>1.000000</td>\n",
              "      <td>130.000000</td>\n",
              "      <td>241.000000</td>\n",
              "      <td>0.000000</td>\n",
              "      <td>1.000000</td>\n",
              "      <td>153.000000</td>\n",
              "      <td>0.000000</td>\n",
              "      <td>0.800000</td>\n",
              "      <td>2.000000</td>\n",
              "      <td>0.000000</td>\n",
              "    </tr>\n",
              "    <tr>\n",
              "      <th>75%</th>\n",
              "      <td>61.000000</td>\n",
              "      <td>1.000000</td>\n",
              "      <td>140.000000</td>\n",
              "      <td>275.000000</td>\n",
              "      <td>0.000000</td>\n",
              "      <td>2.000000</td>\n",
              "      <td>166.000000</td>\n",
              "      <td>1.000000</td>\n",
              "      <td>1.600000</td>\n",
              "      <td>2.000000</td>\n",
              "      <td>1.000000</td>\n",
              "    </tr>\n",
              "    <tr>\n",
              "      <th>max</th>\n",
              "      <td>77.000000</td>\n",
              "      <td>1.000000</td>\n",
              "      <td>200.000000</td>\n",
              "      <td>564.000000</td>\n",
              "      <td>1.000000</td>\n",
              "      <td>2.000000</td>\n",
              "      <td>202.000000</td>\n",
              "      <td>1.000000</td>\n",
              "      <td>6.200000</td>\n",
              "      <td>3.000000</td>\n",
              "      <td>3.000000</td>\n",
              "    </tr>\n",
              "  </tbody>\n",
              "</table>\n",
              "</div>"
            ],
            "text/plain": [
              "              Age         Sex      RestBP        Chol         Fbs     RestECG  \\\n",
              "count  303.000000  303.000000  303.000000  303.000000  303.000000  303.000000   \n",
              "mean    54.438944    0.679868  131.689769  246.693069    0.148515    0.990099   \n",
              "std      9.038662    0.467299   17.599748   51.776918    0.356198    0.994971   \n",
              "min     29.000000    0.000000   94.000000  126.000000    0.000000    0.000000   \n",
              "25%     48.000000    0.000000  120.000000  211.000000    0.000000    0.000000   \n",
              "50%     56.000000    1.000000  130.000000  241.000000    0.000000    1.000000   \n",
              "75%     61.000000    1.000000  140.000000  275.000000    0.000000    2.000000   \n",
              "max     77.000000    1.000000  200.000000  564.000000    1.000000    2.000000   \n",
              "\n",
              "            MaxHR       ExAng     Oldpeak       Slope          Ca  \n",
              "count  303.000000  303.000000  303.000000  303.000000  299.000000  \n",
              "mean   149.607261    0.326733    1.039604    1.600660    0.672241  \n",
              "std     22.875003    0.469794    1.161075    0.616226    0.937438  \n",
              "min     71.000000    0.000000    0.000000    1.000000    0.000000  \n",
              "25%    133.500000    0.000000    0.000000    1.000000    0.000000  \n",
              "50%    153.000000    0.000000    0.800000    2.000000    0.000000  \n",
              "75%    166.000000    1.000000    1.600000    2.000000    1.000000  \n",
              "max    202.000000    1.000000    6.200000    3.000000    3.000000  "
            ]
          },
          "metadata": {},
          "execution_count": 9
        }
      ],
      "metadata": {
        "colab": {
          "base_uri": "https://localhost:8080/",
          "height": 297
        },
        "id": "RJgCkuwjq02m",
        "outputId": "4ff41e6f-31b2-441c-e3df-58e5b6492bef"
      }
    },
    {
      "cell_type": "code",
      "execution_count": 10,
      "source": [
        "data.nunique()"
      ],
      "outputs": [
        {
          "output_type": "execute_result",
          "data": {
            "text/plain": [
              "Age           41\n",
              "Sex            2\n",
              "ChestPain      4\n",
              "RestBP        50\n",
              "Chol         152\n",
              "Fbs            2\n",
              "RestECG        3\n",
              "MaxHR         91\n",
              "ExAng          2\n",
              "Oldpeak       40\n",
              "Slope          3\n",
              "Ca             4\n",
              "Thal           3\n",
              "AHD            2\n",
              "dtype: int64"
            ]
          },
          "metadata": {},
          "execution_count": 10
        }
      ],
      "metadata": {
        "colab": {
          "base_uri": "https://localhost:8080/"
        },
        "id": "Hnia77p2rFvk",
        "outputId": "d160b0ac-0320-47c9-b005-f400511f21ae"
      }
    },
    {
      "cell_type": "code",
      "execution_count": 11,
      "source": [
        "data.dtypes"
      ],
      "outputs": [
        {
          "output_type": "execute_result",
          "data": {
            "text/plain": [
              "Age            int64\n",
              "Sex            int64\n",
              "ChestPain     object\n",
              "RestBP         int64\n",
              "Chol           int64\n",
              "Fbs            int64\n",
              "RestECG        int64\n",
              "MaxHR          int64\n",
              "ExAng          int64\n",
              "Oldpeak      float64\n",
              "Slope          int64\n",
              "Ca           float64\n",
              "Thal          object\n",
              "AHD           object\n",
              "dtype: object"
            ]
          },
          "metadata": {},
          "execution_count": 11
        }
      ],
      "metadata": {
        "colab": {
          "base_uri": "https://localhost:8080/"
        },
        "id": "5Oevo03frKpN",
        "outputId": "b6e265b5-e185-40d5-e0e9-84e02233ba32"
      }
    },
    {
      "cell_type": "markdown",
      "source": [
        "# Checking for null values"
      ],
      "metadata": {}
    },
    {
      "cell_type": "code",
      "execution_count": 12,
      "source": [
        "data.isnull().sum() #6 null values overall"
      ],
      "outputs": [
        {
          "output_type": "execute_result",
          "data": {
            "text/plain": [
              "Age          0\n",
              "Sex          0\n",
              "ChestPain    0\n",
              "RestBP       0\n",
              "Chol         0\n",
              "Fbs          0\n",
              "RestECG      0\n",
              "MaxHR        0\n",
              "ExAng        0\n",
              "Oldpeak      0\n",
              "Slope        0\n",
              "Ca           4\n",
              "Thal         2\n",
              "AHD          0\n",
              "dtype: int64"
            ]
          },
          "metadata": {},
          "execution_count": 12
        }
      ],
      "metadata": {
        "colab": {
          "base_uri": "https://localhost:8080/"
        },
        "id": "FCRqvNhkqoZ7",
        "outputId": "52c6a46c-5260-4b33-d554-823aab4e6219"
      }
    },
    {
      "cell_type": "markdown",
      "source": [
        "# Dropping null values"
      ],
      "metadata": {}
    },
    {
      "cell_type": "code",
      "execution_count": 13,
      "source": [
        "data = data.dropna()"
      ],
      "outputs": [],
      "metadata": {
        "id": "dma6cnaNsEky"
      }
    },
    {
      "cell_type": "code",
      "execution_count": 14,
      "source": [
        "data.isnull().sum()"
      ],
      "outputs": [
        {
          "output_type": "execute_result",
          "data": {
            "text/plain": [
              "Age          0\n",
              "Sex          0\n",
              "ChestPain    0\n",
              "RestBP       0\n",
              "Chol         0\n",
              "Fbs          0\n",
              "RestECG      0\n",
              "MaxHR        0\n",
              "ExAng        0\n",
              "Oldpeak      0\n",
              "Slope        0\n",
              "Ca           0\n",
              "Thal         0\n",
              "AHD          0\n",
              "dtype: int64"
            ]
          },
          "metadata": {},
          "execution_count": 14
        }
      ],
      "metadata": {
        "colab": {
          "base_uri": "https://localhost:8080/"
        },
        "id": "8sflqC3mtwga",
        "outputId": "69e6c991-dac2-4851-bb90-640afef28562"
      }
    },
    {
      "cell_type": "code",
      "execution_count": 15,
      "source": [
        "data.shape"
      ],
      "outputs": [
        {
          "output_type": "execute_result",
          "data": {
            "text/plain": [
              "(297, 14)"
            ]
          },
          "metadata": {},
          "execution_count": 15
        }
      ],
      "metadata": {
        "colab": {
          "base_uri": "https://localhost:8080/"
        },
        "id": "IXtjXaqPtzM7",
        "outputId": "5925e02c-cdaa-4860-e800-fa20322f0b5c"
      }
    },
    {
      "cell_type": "markdown",
      "source": [
        "# Viualising the data"
      ],
      "metadata": {
        "id": "0D4DH5kcw9AJ"
      }
    },
    {
      "cell_type": "code",
      "execution_count": 16,
      "source": [
        "import matplotlib.pyplot as plt\r\n",
        "data['AHD'].value_counts().plot(kind=\"bar\", color=[\"orange\", \"green\"]);"
      ],
      "outputs": [
        {
          "output_type": "display_data",
          "data": {
            "image/png": "[encoded data removed]",
            "text/plain": [
              "<Figure size 432x288 with 1 Axes>"
            ]
          },
          "metadata": {
            "needs_background": "light"
          }
        }
      ],
      "metadata": {
        "colab": {
          "base_uri": "https://localhost:8080/",
          "height": 288
        },
        "id": "SOa25lx7ufCJ",
        "outputId": "2813c6d2-136b-4f81-d138-559c5af11c62"
      }
    },
    {
      "cell_type": "code",
      "execution_count": 17,
      "source": [
        "data['Sex'].value_counts().plot(kind=\"bar\", color=[\"yellow\", \"blue\"]);"
      ],
      "outputs": [
        {
          "output_type": "display_data",
          "data": {
            "image/png": "[encoded data removed]",
            "text/plain": [
              "<Figure size 432x288 with 1 Axes>"
            ]
          },
          "metadata": {
            "needs_background": "light"
          }
        }
      ],
      "metadata": {
        "colab": {
          "base_uri": "https://localhost:8080/",
          "height": 279
        },
        "id": "a3LfUJz3vvgC",
        "outputId": "b9f52200-61b9-4e26-c75c-a0f010e7cc59"
      }
    },
    {
      "cell_type": "code",
      "execution_count": 18,
      "source": [
        "data['ChestPain'].value_counts().plot(kind=\"bar\", color=[\"yellow\", \"blue\"]);"
      ],
      "outputs": [
        {
          "output_type": "display_data",
          "data": {
            "image/png": "[encoded data removed]",
            "text/plain": [
              "<Figure size 432x288 with 1 Axes>"
            ]
          },
          "metadata": {
            "needs_background": "light"
          }
        }
      ],
      "metadata": {
        "colab": {
          "base_uri": "https://localhost:8080/",
          "height": 343
        },
        "id": "1icGmTBLv34l",
        "outputId": "d98748fd-0a56-4968-f45c-2677906772f1"
      }
    },
    {
      "cell_type": "code",
      "execution_count": 19,
      "source": [
        "data['Thal'].value_counts().plot(kind=\"bar\", color=[\"yellow\", \"blue\"])"
      ],
      "outputs": [
        {
          "output_type": "execute_result",
          "data": {
            "text/plain": [
              "<AxesSubplot:>"
            ]
          },
          "metadata": {},
          "execution_count": 19
        },
        {
          "output_type": "display_data",
          "data": {
            "image/png": "[encoded data removed]",
            "text/plain": [
              "<Figure size 432x288 with 1 Axes>"
            ]
          },
          "metadata": {
            "needs_background": "light"
          }
        }
      ],
      "metadata": {
        "colab": {
          "base_uri": "https://localhost:8080/",
          "height": 325
        },
        "id": "-2udfgsLv3ln",
        "outputId": "f4e44325-2554-4b98-d388-3048623b0b7b"
      }
    },
    {
      "cell_type": "code",
      "execution_count": 20,
      "source": [
        "data.hist(bins=30, figsize=(20,20), color=\"green\");"
      ],
      "outputs": [
        {
          "output_type": "stream",
          "name": "stderr",
          "text": [
            "C:\\Users\\nisha\\AppData\\Local\\Programs\\Python\\Python39\\lib\\site-packages\\pandas\\plotting\\_matplotlib\\tools.py:400: MatplotlibDeprecationWarning: \n",
            "The is_first_col function was deprecated in Matplotlib 3.4 and will be removed two minor releases later. Use ax.get_subplotspec().is_first_col() instead.\n",
            "  if ax.is_first_col():\n"
          ]
        },
        {
          "output_type": "display_data",
          "data": {
            "image/png": "[encoded data removed]",
            "text/plain": [
              "<Figure size 1440x1440 with 12 Axes>"
            ]
          },
          "metadata": {
            "needs_background": "light"
          }
        }
      ],
      "metadata": {}
    },
    {
      "cell_type": "code",
      "execution_count": 21,
      "source": [
        "import seaborn as sns"
      ],
      "outputs": [],
      "metadata": {
        "id": "sKJ8qrw-YAZ_"
      }
    },
    {
      "cell_type": "code",
      "execution_count": 22,
      "source": [
        "#checking multicollinearity between the features\r\n",
        "corr_matrix = data.corr()\r\n",
        "fig = plt.figure(figsize = (12, 9)) \r\n",
        "sns.heatmap(corr_matrix, vmax = .8, square = True, annot=True) \r\n",
        "plt.show()"
      ],
      "outputs": [
        {
          "output_type": "display_data",
          "data": {
            "image/png": "[encoded data removed]",
            "text/plain": [
              "<Figure size 864x648 with 2 Axes>"
            ]
          },
          "metadata": {
            "needs_background": "light"
          }
        }
      ],
      "metadata": {
        "colab": {
          "base_uri": "https://localhost:8080/",
          "height": 541
        },
        "id": "5PpAlv3zv3Yo",
        "outputId": "cbfe3085-0157-403d-e428-40398ae1cdd3"
      }
    },
    {
      "cell_type": "markdown",
      "source": [
        "# Label Encoding"
      ],
      "metadata": {
        "id": "enFG6svK1Hl6"
      }
    },
    {
      "cell_type": "code",
      "execution_count": 23,
      "source": [
        "#converting all the string values (object dtype) into numeric values \r\n",
        "from sklearn.preprocessing import LabelEncoder\r\n",
        "label_encoder = LabelEncoder()"
      ],
      "outputs": [],
      "metadata": {
        "id": "n4Iy7xObzzTw"
      }
    },
    {
      "cell_type": "code",
      "execution_count": 24,
      "source": [
        "data[\"ChestPain\"] = label_encoder.fit_transform(data[\"ChestPain\"])\r\n",
        "data[\"Thal\"] = label_encoder.fit_transform(data[\"Thal\"])\r\n",
        "# data['AHD'] = label_encoder.fit_transform(data['AHD'])"
      ],
      "outputs": [],
      "metadata": {
        "id": "rg46F5xJt0yV"
      }
    },
    {
      "cell_type": "code",
      "execution_count": 25,
      "source": [
        "data.head()"
      ],
      "outputs": [
        {
          "output_type": "execute_result",
          "data": {
            "text/html": [
              "<div>\n",
              "<style scoped>\n",
              "    .dataframe tbody tr th:only-of-type {\n",
              "        vertical-align: middle;\n",
              "    }\n",
              "\n",
              "    .dataframe tbody tr th {\n",
              "        vertical-align: top;\n",
              "    }\n",
              "\n",
              "    .dataframe thead th {\n",
              "        text-align: right;\n",
              "    }\n",
              "</style>\n",
              "<table border=\"1\" class=\"dataframe\">\n",
              "  <thead>\n",
              "    <tr style=\"text-align: right;\">\n",
              "      <th></th>\n",
              "      <th>Age</th>\n",
              "      <th>Sex</th>\n",
              "      <th>ChestPain</th>\n",
              "      <th>RestBP</th>\n",
              "      <th>Chol</th>\n",
              "      <th>Fbs</th>\n",
              "      <th>RestECG</th>\n",
              "      <th>MaxHR</th>\n",
              "      <th>ExAng</th>\n",
              "      <th>Oldpeak</th>\n",
              "      <th>Slope</th>\n",
              "      <th>Ca</th>\n",
              "      <th>Thal</th>\n",
              "      <th>AHD</th>\n",
              "    </tr>\n",
              "  </thead>\n",
              "  <tbody>\n",
              "    <tr>\n",
              "      <th>1</th>\n",
              "      <td>63</td>\n",
              "      <td>1</td>\n",
              "      <td>3</td>\n",
              "      <td>145</td>\n",
              "      <td>233</td>\n",
              "      <td>1</td>\n",
              "      <td>2</td>\n",
              "      <td>150</td>\n",
              "      <td>0</td>\n",
              "      <td>2.3</td>\n",
              "      <td>3</td>\n",
              "      <td>0.0</td>\n",
              "      <td>0</td>\n",
              "      <td>No</td>\n",
              "    </tr>\n",
              "    <tr>\n",
              "      <th>2</th>\n",
              "      <td>67</td>\n",
              "      <td>1</td>\n",
              "      <td>0</td>\n",
              "      <td>160</td>\n",
              "      <td>286</td>\n",
              "      <td>0</td>\n",
              "      <td>2</td>\n",
              "      <td>108</td>\n",
              "      <td>1</td>\n",
              "      <td>1.5</td>\n",
              "      <td>2</td>\n",
              "      <td>3.0</td>\n",
              "      <td>1</td>\n",
              "      <td>Yes</td>\n",
              "    </tr>\n",
              "    <tr>\n",
              "      <th>3</th>\n",
              "      <td>67</td>\n",
              "      <td>1</td>\n",
              "      <td>0</td>\n",
              "      <td>120</td>\n",
              "      <td>229</td>\n",
              "      <td>0</td>\n",
              "      <td>2</td>\n",
              "      <td>129</td>\n",
              "      <td>1</td>\n",
              "      <td>2.6</td>\n",
              "      <td>2</td>\n",
              "      <td>2.0</td>\n",
              "      <td>2</td>\n",
              "      <td>Yes</td>\n",
              "    </tr>\n",
              "    <tr>\n",
              "      <th>4</th>\n",
              "      <td>37</td>\n",
              "      <td>1</td>\n",
              "      <td>1</td>\n",
              "      <td>130</td>\n",
              "      <td>250</td>\n",
              "      <td>0</td>\n",
              "      <td>0</td>\n",
              "      <td>187</td>\n",
              "      <td>0</td>\n",
              "      <td>3.5</td>\n",
              "      <td>3</td>\n",
              "      <td>0.0</td>\n",
              "      <td>1</td>\n",
              "      <td>No</td>\n",
              "    </tr>\n",
              "    <tr>\n",
              "      <th>5</th>\n",
              "      <td>41</td>\n",
              "      <td>0</td>\n",
              "      <td>2</td>\n",
              "      <td>130</td>\n",
              "      <td>204</td>\n",
              "      <td>0</td>\n",
              "      <td>2</td>\n",
              "      <td>172</td>\n",
              "      <td>0</td>\n",
              "      <td>1.4</td>\n",
              "      <td>1</td>\n",
              "      <td>0.0</td>\n",
              "      <td>1</td>\n",
              "      <td>No</td>\n",
              "    </tr>\n",
              "  </tbody>\n",
              "</table>\n",
              "</div>"
            ],
            "text/plain": [
              "   Age  Sex  ChestPain  RestBP  Chol  Fbs  RestECG  MaxHR  ExAng  Oldpeak  \\\n",
              "1   63    1          3     145   233    1        2    150      0      2.3   \n",
              "2   67    1          0     160   286    0        2    108      1      1.5   \n",
              "3   67    1          0     120   229    0        2    129      1      2.6   \n",
              "4   37    1          1     130   250    0        0    187      0      3.5   \n",
              "5   41    0          2     130   204    0        2    172      0      1.4   \n",
              "\n",
              "   Slope   Ca  Thal  AHD  \n",
              "1      3  0.0     0   No  \n",
              "2      2  3.0     1  Yes  \n",
              "3      2  2.0     2  Yes  \n",
              "4      3  0.0     1   No  \n",
              "5      1  0.0     1   No  "
            ]
          },
          "metadata": {},
          "execution_count": 25
        }
      ],
      "metadata": {
        "colab": {
          "base_uri": "https://localhost:8080/",
          "height": 204
        },
        "id": "M8woB9qbuTJZ",
        "outputId": "1cc5b8ee-9661-4fc5-8387-cc982fb83d2c"
      }
    },
    {
      "cell_type": "markdown",
      "source": [
        "# Splitting the data"
      ],
      "metadata": {
        "id": "lU5Svny61O8p"
      }
    },
    {
      "cell_type": "code",
      "execution_count": 26,
      "source": [
        "from sklearn.model_selection import train_test_split\r\n",
        "features = data.drop('AHD',axis=1)\r\n",
        "target = data['AHD']\r\n",
        "print(features.shape)\r\n",
        "print(target.shape)"
      ],
      "outputs": [
        {
          "output_type": "stream",
          "name": "stdout",
          "text": [
            "(297, 13)\n",
            "(297,)\n"
          ]
        }
      ],
      "metadata": {
        "colab": {
          "base_uri": "https://localhost:8080/"
        },
        "id": "DGlHVdys0MnL",
        "outputId": "57eb8544-bf3f-4088-e205-461056aec175"
      }
    },
    {
      "cell_type": "code",
      "execution_count": 27,
      "source": [
        "x_train, x_test, y_train, y_test = train_test_split(features, target, train_size = 0.8, random_state=45)"
      ],
      "outputs": [],
      "metadata": {
        "id": "AIQzXVHM134p"
      }
    },
    {
      "cell_type": "code",
      "execution_count": 28,
      "source": [
        "print(x_train.shape)\r\n",
        "print(y_train.shape)\r\n",
        "print(x_test.shape)\r\n",
        "print(y_test.shape)"
      ],
      "outputs": [
        {
          "output_type": "stream",
          "name": "stdout",
          "text": [
            "(237, 13)\n",
            "(237,)\n",
            "(60, 13)\n",
            "(60,)\n"
          ]
        }
      ],
      "metadata": {
        "colab": {
          "base_uri": "https://localhost:8080/"
        },
        "id": "Q3mw_fib2IJo",
        "outputId": "3f278aba-7a99-4c7a-b1fa-3b5bfb532c9a"
      }
    },
    {
      "cell_type": "markdown",
      "source": [
        "# Building the model"
      ],
      "metadata": {
        "id": "QEznYnB54s0T"
      }
    },
    {
      "cell_type": "code",
      "execution_count": 29,
      "source": [
        "from sklearn.linear_model import LogisticRegression\r\n",
        "from sklearn.metrics import roc_auc_score\r\n",
        "from sklearn.metrics import confusion_matrix, accuracy_score, classification_report\r\n",
        "from sklearn.metrics import precision_score, recall_score, roc_auc_score\r\n",
        "lr_model = LogisticRegression()\r\n",
        "lr_model.fit(x_train,y_train)"
      ],
      "outputs": [
        {
          "output_type": "stream",
          "name": "stderr",
          "text": [
            "C:\\Users\\nisha\\AppData\\Local\\Programs\\Python\\Python39\\lib\\site-packages\\sklearn\\linear_model\\_logistic.py:763: ConvergenceWarning: lbfgs failed to converge (status=1):\n",
            "STOP: TOTAL NO. of ITERATIONS REACHED LIMIT.\n",
            "\n",
            "Increase the number of iterations (max_iter) or scale the data as shown in:\n",
            "    https://scikit-learn.org/stable/modules/preprocessing.html\n",
            "Please also refer to the documentation for alternative solver options:\n",
            "    https://scikit-learn.org/stable/modules/linear_model.html#logistic-regression\n",
            "  n_iter_i = _check_optimize_result(\n"
          ]
        },
        {
          "output_type": "execute_result",
          "data": {
            "text/plain": [
              "LogisticRegression()"
            ]
          },
          "metadata": {},
          "execution_count": 29
        }
      ],
      "metadata": {
        "id": "H0yPgzEg2MYy",
        "colab": {
          "base_uri": "https://localhost:8080/"
        },
        "outputId": "134bf60b-9803-4590-f961-5a8792afdba8"
      }
    },
    {
      "cell_type": "markdown",
      "source": [
        "# Model Evaluation"
      ],
      "metadata": {}
    },
    {
      "cell_type": "code",
      "execution_count": 30,
      "source": [
        "x_train_prediction = lr_model.predict(x_train)\r\n",
        "training_data_accuracy = accuracy_score(x_train_prediction, y_train)\r\n",
        "print(f'Accuracy of model on train dataset:-  {training_data_accuracy}')"
      ],
      "outputs": [
        {
          "output_type": "stream",
          "name": "stdout",
          "text": [
            "Accuracy of model on train dataset:-  0.8565400843881856\n"
          ]
        }
      ],
      "metadata": {
        "id": "oeshXr55DYr5",
        "colab": {
          "base_uri": "https://localhost:8080/"
        },
        "outputId": "6c9b2ada-1604-41db-d219-2cd9ffab4ab0"
      }
    },
    {
      "cell_type": "code",
      "execution_count": 31,
      "source": [
        "x_test_prediction = lr_model.predict(x_test)\r\n",
        "testing_data_accuracy = accuracy_score(x_test_prediction, y_test)\r\n",
        "print(f'Accuracy of model on test dataset:-  {testing_data_accuracy}')"
      ],
      "outputs": [
        {
          "output_type": "stream",
          "name": "stdout",
          "text": [
            "Accuracy of model on test dataset:-  0.9\n"
          ]
        }
      ],
      "metadata": {
        "id": "Ik8HQpd2FBOg",
        "colab": {
          "base_uri": "https://localhost:8080/"
        },
        "outputId": "53cae6aa-089d-40bc-a4df-c52945d71dab"
      }
    },
    {
      "cell_type": "markdown",
      "source": [
        "# Confusion Matrix & Classification Report"
      ],
      "metadata": {}
    },
    {
      "cell_type": "code",
      "execution_count": 32,
      "source": [
        "log_predictions = lr_model.predict(x_test)"
      ],
      "outputs": [],
      "metadata": {}
    },
    {
      "cell_type": "code",
      "execution_count": 33,
      "source": [
        "# confusion matrix\r\n",
        "print(f\"Confusion Matrix :- \\n {confusion_matrix(y_test, log_predictions)}\")"
      ],
      "outputs": [
        {
          "output_type": "stream",
          "name": "stdout",
          "text": [
            "Confusion Matrix :- \n",
            " [[31  3]\n",
            " [ 3 23]]\n"
          ]
        }
      ],
      "metadata": {
        "id": "OqGNWnUm3qjf",
        "colab": {
          "base_uri": "https://localhost:8080/"
        },
        "outputId": "b3493c0f-493f-4bc0-97d1-8251b30b30b8"
      }
    },
    {
      "cell_type": "code",
      "execution_count": 34,
      "source": [
        "# classification report for f1-score\r\n",
        "print(f\"Classification Report :- \\n {classification_report(y_test, log_predictions)}\")\r\n",
        "# print(f\"AROC score :- \\n {roc_auc_score(y_test, log_predictions)}\")"
      ],
      "outputs": [
        {
          "output_type": "stream",
          "name": "stdout",
          "text": [
            "Classification Report :- \n",
            "               precision    recall  f1-score   support\n",
            "\n",
            "          No       0.91      0.91      0.91        34\n",
            "         Yes       0.88      0.88      0.88        26\n",
            "\n",
            "    accuracy                           0.90        60\n",
            "   macro avg       0.90      0.90      0.90        60\n",
            "weighted avg       0.90      0.90      0.90        60\n",
            "\n"
          ]
        }
      ],
      "metadata": {
        "id": "V2Wt0mFj3t74",
        "colab": {
          "base_uri": "https://localhost:8080/"
        },
        "outputId": "b0c47832-581b-4532-a8a0-2134381d12c9"
      }
    }
  ]
}